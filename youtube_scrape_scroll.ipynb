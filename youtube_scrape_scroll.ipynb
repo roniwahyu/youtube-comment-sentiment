{
 "cells": [
  {
   "cell_type": "code",
   "execution_count": 38,
   "metadata": {},
   "outputs": [],
   "source": [
    "from selenium import webdriver\n",
    "from selenium.webdriver.chrome.service import Service\n",
    "from selenium.webdriver.chrome.options import Options\n",
    "from selenium.webdriver.common.by import By\n",
    "from selenium.webdriver.support.ui import WebDriverWait\n",
    "from selenium.webdriver.support import expected_conditions as EC\n",
    "import time\n"
   ]
  },
  {
   "cell_type": "code",
   "execution_count": 39,
   "metadata": {},
   "outputs": [],
   "source": [
    "\n",
    "# Path ke driver dan direktori profil Chrome\n",
    "driver_path = '/path/to/chromedriver'  # Ganti dengan path driver Anda\n",
    "# profile_path = r'C:\\\\Users\\\\LENOVO\\\\AppData\\\\Local\\\\Google\\\\Chrome\\\\User Data\\\\Default'  # Path profil Chrome yang sudah login\n",
    "# profile_path = 'C:\\\\Users\\\\LENOVO\\\\AppData\\\\Local\\\\Google\\\\Chrome\\\\User Data\\\\Default'  # Ganti path ke profil Chrome Anda\n",
    "profile_path = r'C:\\Users\\LENOVO\\AppData\\Local\\Google\\Chrome\\User Data\\Default'  # Ganti sesuai path profil Chrome Anda\n"
   ]
  },
  {
   "cell_type": "code",
   "execution_count": 40,
   "metadata": {},
   "outputs": [
    {
     "name": "stdout",
     "output_type": "stream",
     "text": [
      "Koneksi ke YouTube berhasil.\n"
     ]
    }
   ],
   "source": [
    "try:\n",
    "    response = requests.get(\"https://www.youtube.com\")\n",
    "    if response.status_code == 200:\n",
    "        print(\"Koneksi ke YouTube berhasil.\")\n",
    "    else:\n",
    "        print(\"Koneksi ke YouTube tidak berhasil.\")\n",
    "except requests.ConnectionError as e:\n",
    "    print(\"Gagal menghubungi YouTube:\", e)"
   ]
  },
  {
   "cell_type": "code",
   "execution_count": 41,
   "metadata": {},
   "outputs": [],
   "source": [
    "\n",
    "def initialize_driver_with_profile(profile_path):\n",
    "    \"\"\"Inisialisasi driver dengan profil Chrome yang sudah ada.\"\"\"\n",
    "    chrome_options = Options()\n",
    "    chrome_options.add_argument(f\"user-data-dir={profile_path}\")\n",
    "    chrome_options.add_argument(\"--no-sandbox\")\n",
    "    chrome_options.add_argument(\"--disable-dev-shm-usage\")\n",
    "    chrome_options.add_argument(\"--no-first-run\")\n",
    "    chrome_options.add_argument(\"--remote-debugging-port=9222\")\n",
    "    chrome_options.add_argument(\"--enable-logging\")\n",
    "    chrome_options.add_argument(\"--v=1\")  # Level logging dasar\n",
    "    # service = Service(driver_path)\n",
    "    driver = webdriver.Chrome(options=chrome_options)\n",
    "    return driver\n",
    "\n",
    "def get_all_youtube_comments(driver, video_url, max_comments=None):\n",
    "    \"\"\"Mengambil semua komentar dari video YouTube dengan scroll tanpa batas.\"\"\"\n",
    "    driver.get(video_url)\n",
    "    time.sleep(3)  # Tunggu halaman dimuat\n",
    "\n",
    "    comments = []\n",
    "    last_height = driver.execute_script(\"return document.documentElement.scrollHeight\")\n",
    "    while True:\n",
    "        # Scroll ke bawah untuk memuat komentar baru\n",
    "        driver.execute_script(\"window.scrollTo(0, document.documentElement.scrollHeight);\")\n",
    "        time.sleep(2)  # Jeda untuk memuat komentar baru\n",
    "\n",
    "        # Ambil elemen komentar\n",
    "        comment_elements = driver.find_elements(By.XPATH, '//*[@id=\"content-text\"]')\n",
    "        for element in comment_elements[len(comments):]:  # Mulai dari komentar baru\n",
    "            comment_text = element.text\n",
    "            if comment_text:\n",
    "                comments.append(comment_text)\n",
    "                # Batas maksimal komentar jika disetel\n",
    "                if max_comments and len(comments) >= max_comments:\n",
    "                    return comments\n",
    "\n",
    "        # Cek tinggi baru halaman untuk melihat apakah ada yang baru dimuat\n",
    "        new_height = driver.execute_script(\"return document.documentElement.scrollHeight\")\n",
    "        if new_height == last_height:  # Berhenti jika tidak ada lagi yang dimuat\n",
    "            break\n",
    "        last_height = new_height\n",
    "\n",
    "    return comments\n",
    "\n",
    "def save_to_csv(comments, filename=\"youtube_comments.csv\"):\n",
    "    \"\"\"Menyimpan komentar ke file CSV.\"\"\"\n",
    "    df = pd.DataFrame(comments, columns=[\"Comment\"])\n",
    "    df.to_csv(filename, index=False)\n",
    "    print(f\"Komentar berhasil disimpan di {filename}\")\n"
   ]
  },
  {
   "cell_type": "code",
   "execution_count": 36,
   "metadata": {},
   "outputs": [],
   "source": [
    "\n",
    "\n"
   ]
  },
  {
   "cell_type": "code",
   "execution_count": 42,
   "metadata": {},
   "outputs": [
    {
     "name": "stdout",
     "output_type": "stream",
     "text": [
      "Komentar berhasil disimpan di youtube_comments_i6IOiUi6IYY.csv\n"
     ]
    }
   ],
   "source": [
    "# Inisialisasi WebDriver dengan profil Chrome\n",
    "driver = initialize_driver_with_profile(profile_path)\n",
    "# URL video YouTube dan jumlah komentar maksimal yang diinginkan (bisa None untuk semua)\n",
    "# video_url = \"https://www.youtube.com/watch?v=i6IOiUi6IYY\"  # Ganti dengan ID video yang diinginkan\n",
    "# URL video YouTube dan jumlah komentar maksimal yang diinginkan\n",
    "# idyoutube=\"6IOiUi6IYY\"\n",
    "video_url = f\"https://www.youtube.com/watch?v=i6IOiUi6IYY\"  # Menggunakan idyoutube sebagai variabel\n",
    "\n",
    "comments = get_all_youtube_comments(driver, video_url, max_comments=None)  # None untuk scroll tanpa batas\n",
    "# save_to_csv(comments)\n",
    "# Simpan komentar dengan nama file yang mengandung ID video\n",
    "filename = f\"youtube_comments_i6IOiUi6IYY.csv\"\n",
    "save_to_csv(comments, filename)\n",
    "\n",
    "# Tutup driver setelah selesai\n",
    "driver.quit()\n"
   ]
  }
 ],
 "metadata": {
  "kernelspec": {
   "display_name": "Python 3",
   "language": "python",
   "name": "python3"
  },
  "language_info": {
   "codemirror_mode": {
    "name": "ipython",
    "version": 3
   },
   "file_extension": ".py",
   "mimetype": "text/x-python",
   "name": "python",
   "nbconvert_exporter": "python",
   "pygments_lexer": "ipython3",
   "version": "3.12.3"
  }
 },
 "nbformat": 4,
 "nbformat_minor": 2
}
